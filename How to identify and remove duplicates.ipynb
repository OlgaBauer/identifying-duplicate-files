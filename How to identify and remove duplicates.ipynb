{
 "cells": [
  {
   "cell_type": "code",
   "execution_count": 9,
   "id": "671ee986",
   "metadata": {},
   "outputs": [],
   "source": [
    "#import libraries\n",
    "import os\n",
    "from pathlib import Path\n",
    "from filecmp import cmp"
   ]
  },
  {
   "cell_type": "code",
   "execution_count": 10,
   "id": "84b74e2d",
   "metadata": {},
   "outputs": [],
   "source": [
    "# list all documents\n",
    "DATA_DIR = Path(r\"Z:\\Depth_Calibrated_Logs\\42_209_Calibrated\")\n",
    "files = sorted(os.listdir(DATA_DIR))"
   ]
  },
  {
   "cell_type": "code",
   "execution_count": 11,
   "id": "7ca6758c",
   "metadata": {},
   "outputs": [],
   "source": [
    "# make a list containing the classes of documents with the same content\n",
    "duplicates = []"
   ]
  },
  {
   "cell_type": "code",
   "execution_count": 12,
   "id": "87aa5ba7",
   "metadata": {},
   "outputs": [
    {
     "ename": "PermissionError",
     "evalue": "[WinError 24] The program issued a command but the command length is incorrect: 'Z:\\\\Depth_Calibrated_Logs\\\\42_209_Calibrated\\\\422090000600_DIL.xml'",
     "output_type": "error",
     "traceback": [
      "\u001b[1;31m---------------------------------------------------------------------------\u001b[0m",
      "\u001b[1;31mPermissionError\u001b[0m                           Traceback (most recent call last)",
      "\u001b[1;32m<ipython-input-12-128f36c48683>\u001b[0m in \u001b[0;36m<module>\u001b[1;34m\u001b[0m\n\u001b[0;32m      5\u001b[0m \u001b[1;33m\u001b[0m\u001b[0m\n\u001b[0;32m      6\u001b[0m     \u001b[1;32mfor\u001b[0m \u001b[0mclass_\u001b[0m \u001b[1;32min\u001b[0m \u001b[0mduplicates\u001b[0m\u001b[1;33m:\u001b[0m\u001b[1;33m\u001b[0m\u001b[1;33m\u001b[0m\u001b[0m\n\u001b[1;32m----> 7\u001b[1;33m         is_duplicate = cmp(\n\u001b[0m\u001b[0;32m      8\u001b[0m             \u001b[0mDATA_DIR\u001b[0m \u001b[1;33m/\u001b[0m \u001b[0mfile\u001b[0m\u001b[1;33m,\u001b[0m\u001b[1;33m\u001b[0m\u001b[1;33m\u001b[0m\u001b[0m\n\u001b[0;32m      9\u001b[0m             \u001b[0mDATA_DIR\u001b[0m \u001b[1;33m/\u001b[0m \u001b[0mclass_\u001b[0m\u001b[1;33m[\u001b[0m\u001b[1;36m0\u001b[0m\u001b[1;33m]\u001b[0m\u001b[1;33m,\u001b[0m\u001b[1;33m\u001b[0m\u001b[1;33m\u001b[0m\u001b[0m\n",
      "\u001b[1;32m~\\Anaconda3\\lib\\filecmp.py\u001b[0m in \u001b[0;36mcmp\u001b[1;34m(f1, f2, shallow)\u001b[0m\n\u001b[0;32m     49\u001b[0m     \"\"\"\n\u001b[0;32m     50\u001b[0m \u001b[1;33m\u001b[0m\u001b[0m\n\u001b[1;32m---> 51\u001b[1;33m     \u001b[0ms1\u001b[0m \u001b[1;33m=\u001b[0m \u001b[0m_sig\u001b[0m\u001b[1;33m(\u001b[0m\u001b[0mos\u001b[0m\u001b[1;33m.\u001b[0m\u001b[0mstat\u001b[0m\u001b[1;33m(\u001b[0m\u001b[0mf1\u001b[0m\u001b[1;33m)\u001b[0m\u001b[1;33m)\u001b[0m\u001b[1;33m\u001b[0m\u001b[1;33m\u001b[0m\u001b[0m\n\u001b[0m\u001b[0;32m     52\u001b[0m     \u001b[0ms2\u001b[0m \u001b[1;33m=\u001b[0m \u001b[0m_sig\u001b[0m\u001b[1;33m(\u001b[0m\u001b[0mos\u001b[0m\u001b[1;33m.\u001b[0m\u001b[0mstat\u001b[0m\u001b[1;33m(\u001b[0m\u001b[0mf2\u001b[0m\u001b[1;33m)\u001b[0m\u001b[1;33m)\u001b[0m\u001b[1;33m\u001b[0m\u001b[1;33m\u001b[0m\u001b[0m\n\u001b[0;32m     53\u001b[0m     \u001b[1;32mif\u001b[0m \u001b[0ms1\u001b[0m\u001b[1;33m[\u001b[0m\u001b[1;36m0\u001b[0m\u001b[1;33m]\u001b[0m \u001b[1;33m!=\u001b[0m \u001b[0mstat\u001b[0m\u001b[1;33m.\u001b[0m\u001b[0mS_IFREG\u001b[0m \u001b[1;32mor\u001b[0m \u001b[0ms2\u001b[0m\u001b[1;33m[\u001b[0m\u001b[1;36m0\u001b[0m\u001b[1;33m]\u001b[0m \u001b[1;33m!=\u001b[0m \u001b[0mstat\u001b[0m\u001b[1;33m.\u001b[0m\u001b[0mS_IFREG\u001b[0m\u001b[1;33m:\u001b[0m\u001b[1;33m\u001b[0m\u001b[1;33m\u001b[0m\u001b[0m\n",
      "\u001b[1;31mPermissionError\u001b[0m: [WinError 24] The program issued a command but the command length is incorrect: 'Z:\\\\Depth_Calibrated_Logs\\\\42_209_Calibrated\\\\422090000600_DIL.xml'"
     ]
    }
   ],
   "source": [
    "# comparison of the documents\n",
    "for file in files:\n",
    "\n",
    "    is_duplicate = False\n",
    "\n",
    "    for class_ in duplicates:\n",
    "        is_duplicate = cmp(\n",
    "            DATA_DIR / file,\n",
    "            DATA_DIR / class_[0],\n",
    "            shallow = False\n",
    "        )\n",
    "        if is_duplicate:\n",
    "            class_.append(file)\n",
    "            break\n",
    "            \n",
    "    if not is_duplicate:\n",
    "        duplicates.append([file]) \n",
    "\n",
    "# show results\n",
    "duplicates"
   ]
  },
  {
   "cell_type": "code",
   "execution_count": 20,
   "id": "2471b7a9",
   "metadata": {},
   "outputs": [],
   "source": [
    "# remove the duplicates\n",
    "#for class_ in duplicates:\n",
    "    for file in class_[1:]:\n",
    "        os.remove(DATA_DIR / file)"
   ]
  },
  {
   "cell_type": "code",
   "execution_count": null,
   "id": "8c9b0a95",
   "metadata": {},
   "outputs": [],
   "source": [
    "# https://medium.com/dida-machine-learning/how-to-identify-duplicate-files-with-python-a4e488233d03"
   ]
  }
 ],
 "metadata": {
  "kernelspec": {
   "display_name": "Python 3",
   "language": "python",
   "name": "python3"
  },
  "language_info": {
   "codemirror_mode": {
    "name": "ipython",
    "version": 3
   },
   "file_extension": ".py",
   "mimetype": "text/x-python",
   "name": "python",
   "nbconvert_exporter": "python",
   "pygments_lexer": "ipython3",
   "version": "3.8.8"
  }
 },
 "nbformat": 4,
 "nbformat_minor": 5
}
